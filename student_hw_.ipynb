{
 "cells": [
  {
   "cell_type": "code",
   "execution_count": 12,
   "source": [
    "# alphabet = list(\"abcdefghijklmnopqrstuvwxyz\") #convert alphabet string to list\r\n",
    "# first = list(input(\"Enter your first name: \")) #convert input to list\r\n",
    "# numbers = []\r\n",
    "# for letter in first:\r\n",
    "#  numbers.append((alphabet.index(letter))+1) #take index of each letter, add to\r\n",
    "\r\n",
    "# print (sum(numbers))\r\n",
    "#%% Problem 2\r\n",
    "# streets = [\"Warren\",\"Essex\",\"Bergen\",\"Jersey\",\"Grant\"]\r\n",
    "# # pets = [\"Mellow\",\"Tiger\",\"Butter\"]\r\n",
    "# # print(pets[1],streets[4])\r\n",
    "# # #%% Problem 3\r\n",
    "# temp = float(input(\"Enter a temperature from 0 to 100: \")) #convert input to\r\n",
    "\r\n",
    "# if 0 <= temp < 50:\r\n",
    "#  print (\"It's cold\")\r\n",
    "# elif 50 <= temp <= 70:\r\n",
    "#  print (\"It's mild\")\r\n",
    "# elif 70 < temp <= 100:\r\n",
    "#  print (\"It's hot\")\r\n",
    "# else:\r\n",
    "#  print (\"Out of range\")\r\n",
    "# #%% Extra Credit\r\n",
    "# alphabet = list(\"abcdefghijklmnopqrstuvwxyz\")\r\n",
    "# word_list = []\r\n",
    "# word_str = \"\"\r\n",
    "# print (\"Enter 5 numbers (1~26) separately: \")\r\n",
    "# for i in range(5) :\r\n",
    "#  n = int(input()) #input 5 numbers one at a time\r\n",
    "#  word_list.append(alphabet[n-1]) #index from alphabet, add to new list\r\n",
    "# for w in range(5):\r\n",
    "#  word_str = word_str + word_list[w] #add 5 list elements into one string\r\n",
    "\r\n",
    "# print (\"Your word is\",word_str)"
   ],
   "outputs": [
    {
     "output_type": "stream",
     "name": "stdout",
     "text": [
      "Enter 5 numbers (1~26) separately: \n",
      "Your word is abcde\n"
     ]
    }
   ],
   "metadata": {}
  },
  {
   "cell_type": "code",
   "execution_count": 4,
   "source": [
    "#Question 2\r\n",
    "mystreetslist = [\"John\", \"Howard\", \"George\", \"Fyle\", \"Pasedena\"] \r\n",
    "\r\n",
    "mypetslist = [\"Kitty\", \"Dawg\", \"Phoenix\"] #list of pet names\r\n",
    "print(mypetslist[1]+\" \"+mystreetslist[4]) #new hollywood name\r\n",
    "#DONE!\r\n"
   ],
   "outputs": [
    {
     "output_type": "stream",
     "name": "stdout",
     "text": [
      "Dawg Pasedena\n"
     ]
    }
   ],
   "metadata": {}
  },
  {
   "cell_type": "code",
   "execution_count": 18,
   "source": [
    "outsidetemp=float(input(\"Input temp here: \"))\r\n",
    "if temperature < 50:\r\n",
    "    outsidetemp.append(\"cold\")\r\n",
    "elif temperature < 70:\r\n",
    "    outsidetemp.append(\"mild\")\r\n",
    "elif temperature > 70:\r\n",
    "    outsidetemp.append(\"hot\")\r\n",
    "\r\n"
   ],
   "outputs": [
    {
     "output_type": "error",
     "ename": "AttributeError",
     "evalue": "'float' object has no attribute 'append'",
     "traceback": [
      "\u001b[1;31m---------------------------------------------------------------------------\u001b[0m",
      "\u001b[1;31mAttributeError\u001b[0m                            Traceback (most recent call last)",
      "\u001b[1;32m<ipython-input-18-4f1ef7e48c42>\u001b[0m in \u001b[0;36m<module>\u001b[1;34m\u001b[0m\n\u001b[0;32m      5\u001b[0m     \u001b[0moutsidetemp\u001b[0m\u001b[1;33m.\u001b[0m\u001b[0mappend\u001b[0m\u001b[1;33m(\u001b[0m\u001b[1;34m\"mild\"\u001b[0m\u001b[1;33m)\u001b[0m\u001b[1;33m\u001b[0m\u001b[1;33m\u001b[0m\u001b[0m\n\u001b[0;32m      6\u001b[0m \u001b[1;32melif\u001b[0m \u001b[0mtemperature\u001b[0m \u001b[1;33m>\u001b[0m \u001b[1;36m70\u001b[0m\u001b[1;33m:\u001b[0m\u001b[1;33m\u001b[0m\u001b[1;33m\u001b[0m\u001b[0m\n\u001b[1;32m----> 7\u001b[1;33m     \u001b[0moutsidetemp\u001b[0m\u001b[1;33m.\u001b[0m\u001b[0mappend\u001b[0m\u001b[1;33m(\u001b[0m\u001b[1;34m\"hot\"\u001b[0m\u001b[1;33m)\u001b[0m\u001b[1;33m\u001b[0m\u001b[1;33m\u001b[0m\u001b[0m\n\u001b[0m\u001b[0;32m      8\u001b[0m \u001b[1;33m\u001b[0m\u001b[0m\n",
      "\u001b[1;31mAttributeError\u001b[0m: 'float' object has no attribute 'append'"
     ]
    }
   ],
   "metadata": {}
  },
  {
   "cell_type": "code",
   "execution_count": null,
   "source": [],
   "outputs": [],
   "metadata": {}
  }
 ],
 "metadata": {
  "orig_nbformat": 4,
  "language_info": {
   "name": "python",
   "version": "3.8.8",
   "mimetype": "text/x-python",
   "codemirror_mode": {
    "name": "ipython",
    "version": 3
   },
   "pygments_lexer": "ipython3",
   "nbconvert_exporter": "python",
   "file_extension": ".py"
  },
  "kernelspec": {
   "name": "python3",
   "display_name": "Python 3.8.8 64-bit ('base': conda)"
  },
  "interpreter": {
   "hash": "b3ba2566441a7c06988d0923437866b63cedc61552a5af99d1f4fb67d367b25f"
  }
 },
 "nbformat": 4,
 "nbformat_minor": 2
}