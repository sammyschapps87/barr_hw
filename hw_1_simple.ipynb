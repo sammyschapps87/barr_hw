{
 "cells": [
  {
   "cell_type": "code",
   "execution_count": 1,
   "source": [
    "# Student friendly way of writing it \r\n",
    "\r\n",
    "str = 'abcdefghijklmnopqrstuvwxyz'\r\n",
    "xlist = []\r\n",
    "xlist[:0] = str\r\n",
    "\r\n",
    "name_input = input(\"enter a name! \")\r\n",
    "value = 0 \r\n",
    "for letter in name_input:\r\n",
    "    index = xlist.index(letter)\r\n",
    "    value += index + 1\r\n",
    "\r\n",
    "print(value)\r\n"
   ],
   "outputs": [
    {
     "output_type": "stream",
     "name": "stdout",
     "text": [
      "['a', 'b', 'c', 'd', 'e', 'f', 'g', 'h', 'i', 'j', 'k', 'l', 'm', 'n', 'o', 'p', 'q', 'r', 's', 't', 'u', 'v', 'w', 'x', 'y', 'z']\n",
      "33\n"
     ]
    }
   ],
   "metadata": {}
  },
  {
   "cell_type": "code",
   "execution_count": 2,
   "source": [
    "# Creating dictionary off the bat another way to do it\r\n",
    "alphabet = {\r\n",
    "        'a' : 1, \r\n",
    "        'b' : 2, \r\n",
    "        'c' : 3, \r\n",
    "        'd' : 4, \r\n",
    "        'e' : 5, \r\n",
    "        'f' : 6, \r\n",
    "        'g' : 7, \r\n",
    "        'h' : 8, \r\n",
    "        'i' : 9, \r\n",
    "        'j' : 10, \r\n",
    "        'k' : 11, \r\n",
    "        'l' : 12, \r\n",
    "        'm' : 13, \r\n",
    "        'n' : 14, \r\n",
    "        'o' : 15, \r\n",
    "        'p' : 16, \r\n",
    "        'q' : 17, \r\n",
    "        'r' : 18, \r\n",
    "        's' : 19, \r\n",
    "        't' : 20, \r\n",
    "        'u' : 21, \r\n",
    "        'v' : 22, \r\n",
    "        'w' : 23, \r\n",
    "        'x' : 24, \r\n",
    "        'y' : 25, \r\n",
    "        'z' : 26\r\n",
    "    }\r\n",
    "name = input(\"enter your name: \")\r\n",
    "sum_name = 0\r\n",
    "\r\n",
    "for i in name:\r\n",
    "    sum_name += alphabet[i]\r\n",
    "print(sum_name)"
   ],
   "outputs": [
    {
     "output_type": "stream",
     "name": "stdout",
     "text": [
      "33\n"
     ]
    }
   ],
   "metadata": {}
  },
  {
   "cell_type": "code",
   "execution_count": 4,
   "source": [
    "street_names = [\"shadowlawn\", \"hyslip\", \"rahway\",\"central\", \"ripley\"]\r\n",
    "pet_names = [\"crosby\", \"harvey\", \"marvin\"]\r\n",
    " \r\n",
    "#simple way \r\n",
    "print(pet_names[1:2], street_names[4:5])\r\n",
    "\r\n",
    "#f string \r\n",
    "print(f\"my first name is {pet_names[1:2]} and my lastname is {street_names[4:5]}\")"
   ],
   "outputs": [
    {
     "output_type": "stream",
     "name": "stdout",
     "text": [
      "['harvey'] ['ripley']\n",
      "my first name is ['harvey'] and my lastname is ['ripley']\n"
     ]
    }
   ],
   "metadata": {}
  },
  {
   "cell_type": "code",
   "execution_count": 7,
   "source": [
    "#Question 3\r\n",
    "\r\n",
    "#input for temp as float\r\n",
    "t = float(input('choose a temp! '))\r\n",
    "\r\n",
    "#if then statements to take user input and output correct information \r\n",
    "if 100 >= t > 70:\r\n",
    "    print('thats hot!')\r\n",
    "elif 70 >= t >= 50:\r\n",
    "    print('thats mild!')\r\n",
    "elif t < 50:\r\n",
    "    print('thats cold!')\r\n",
    "else:\r\n",
    "    print(\"Please choose a number between 1 and 100!\")"
   ],
   "outputs": [
    {
     "output_type": "stream",
     "name": "stdout",
     "text": [
      "Please choose a number between 1 and 100!\n"
     ]
    }
   ],
   "metadata": {}
  },
  {
   "cell_type": "code",
   "execution_count": null,
   "source": [
    "# empty array \r\n",
    "array = []\r\n",
    "\r\n",
    "# for loop creating varible x that tell user to input 5 intergers then appends it to the empty array \r\n",
    "for i in range(0, 5):\r\n",
    "    x = int(input('enter 5 intergers'))\r\n",
    "    array.append(x)\r\n",
    "\r\n",
    "# for loop telling computer for each interger in range 0-5 to print the charector corresponding with each number in the array. \r\n",
    "# chr(97) = a so I add + 96 to link the numbers in the array to the alphabet. \r\n",
    "for i in range(0, 5):\r\n",
    "    print(chr(array[i] + 96))"
   ],
   "outputs": [],
   "metadata": {}
  }
 ],
 "metadata": {
  "orig_nbformat": 4,
  "language_info": {
   "name": "python",
   "version": "3.8.8",
   "mimetype": "text/x-python",
   "codemirror_mode": {
    "name": "ipython",
    "version": 3
   },
   "pygments_lexer": "ipython3",
   "nbconvert_exporter": "python",
   "file_extension": ".py"
  },
  "kernelspec": {
   "name": "python3",
   "display_name": "Python 3.8.8 64-bit ('base': conda)"
  },
  "interpreter": {
   "hash": "b3ba2566441a7c06988d0923437866b63cedc61552a5af99d1f4fb67d367b25f"
  }
 },
 "nbformat": 4,
 "nbformat_minor": 2
}