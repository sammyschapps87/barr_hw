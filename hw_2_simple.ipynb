{
 "cells": [
  {
   "cell_type": "code",
   "execution_count": 2,
   "source": [
    "#creating median function\r\n",
    "def lmedian(numbers):\r\n",
    "    #sort numbers in ascending order \r\n",
    "    numbers.sort()\r\n",
    "    #if numbers is odd\r\n",
    "    if len(numbers)%2==1:\r\n",
    "        #print middle number \r\n",
    "        print(numbers[int((len(numbers)- 1)/2)])\r\n",
    "    #if numbers isnt odd aka even \r\n",
    "    else: \r\n",
    "        #take upper middle # add it to lower middle number and / by 2\r\n",
    "        print((numbers[int(len(numbers)/2)] + numbers[int(len(numbers)/2-1)])/2)\r\n",
    "\r\n",
    "\r\n",
    "\r\n",
    "#to create number list\r\n",
    "empty_list = []\r\n",
    "for i in range(5):\r\n",
    "    num = float(input('enter a list of 6 numbers: '))\r\n",
    "    empty_list.append(num)\r\n",
    "    \r\n",
    "#print median \r\n",
    "lmedian(empty_list)"
   ],
   "outputs": [
    {
     "output_type": "stream",
     "name": "stdout",
     "text": [
      "6.0\n"
     ]
    }
   ],
   "metadata": {}
  },
  {
   "cell_type": "code",
   "execution_count": 8,
   "source": [
    "def distance (lat_a, long_a, lat_b, long_b):\r\n",
    "    lat = 69\r\n",
    "    long = 53\r\n",
    "\r\n",
    "    dis = ((lat*(lat_a-lat_b))**2 + (long*(long_a - long_b))**2)**.5\r\n",
    "    return dis\r\n",
    "\r\n",
    "def main():\r\n",
    "    lat_a = float(input(\"enter lat for a: \"))\r\n",
    "    long_a = float(input('enter long for a: '))\r\n",
    "    lat_b = float(input(\"enter lat for b: \"))\r\n",
    "    long_b = float(input('enter long for b: '))\r\n",
    "\r\n",
    "    dist = distance(lat_a, long_a, lat_b, long_b)\r\n",
    "\r\n",
    "    print(f\"The distance between the chosen places is {dist} miles\")\r\n",
    "\r\n",
    "if __name__ == '__main__':\r\n",
    "    main()\r\n",
    "\r\n",
    "\r\n"
   ],
   "outputs": [
    {
     "output_type": "stream",
     "name": "stdout",
     "text": [
      "The distance between the chosen places is 629.9817457672881 miles\n"
     ]
    }
   ],
   "metadata": {}
  },
  {
   "cell_type": "code",
   "execution_count": 10,
   "source": [
    "price_1 = int(input('enter price #1 '))\r\n",
    "price_2 = int(input('enter price #2 '))\r\n",
    "\r\n",
    "if price_1 <=0 or price_2 <= 0 or price_1>= 100 or price_2 >= 100:\r\n",
    "    print('These price values are unacceptable!')\r\n",
    "else: \r\n",
    "    quantity_1 = int((100-price_1)/2)\r\n",
    "    quantity_2 = int((100-price_2)/2)\r\n",
    "    e = abs((quantity_2 - quantity_1)*(price_2-price_1)*(quantity_2+quantity_1))\r\n",
    "    print(f\"elasticity value: {e}\")\r\n"
   ],
   "outputs": [
    {
     "output_type": "stream",
     "name": "stdout",
     "text": [
      "elasticity value: 89\n"
     ]
    }
   ],
   "metadata": {}
  },
  {
   "cell_type": "code",
   "execution_count": null,
   "source": [],
   "outputs": [],
   "metadata": {}
  }
 ],
 "metadata": {
  "orig_nbformat": 4,
  "language_info": {
   "name": "python",
   "version": "3.8.8",
   "mimetype": "text/x-python",
   "codemirror_mode": {
    "name": "ipython",
    "version": 3
   },
   "pygments_lexer": "ipython3",
   "nbconvert_exporter": "python",
   "file_extension": ".py"
  },
  "kernelspec": {
   "name": "python3",
   "display_name": "Python 3.8.8 64-bit ('base': conda)"
  },
  "interpreter": {
   "hash": "b3ba2566441a7c06988d0923437866b63cedc61552a5af99d1f4fb67d367b25f"
  }
 },
 "nbformat": 4,
 "nbformat_minor": 2
}