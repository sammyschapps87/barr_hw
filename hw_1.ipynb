{
 "cells": [
  {
   "cell_type": "code",
   "execution_count": 1,
   "source": [
    "#Question 1\r\n",
    "\r\n",
    "#import dependencies\r\n",
    "import string\r\n",
    "import builtins \r\n",
    "\r\n",
    "#create string\r\n",
    "abc_string = (string.ascii_lowercase)\r\n",
    "abc_string\r\n",
    "\r\n",
    "#empty list and for loop appending all letters in alphabet to empty list \r\n",
    "list = []\r\n",
    "for i in abc_string:\r\n",
    "  list.append(i)\r\n",
    "\r\n",
    "abc_string\r\n",
    "#empty dictoinary and for loop creating a dictionary containing a list index of i (bassically a number value for each letter) + 1 so the first number = 1 not zero\r\n",
    "# dictionary = {}\r\n",
    "# for i in list:\r\n",
    "#   dictionary[i] = list.index(i) + 1\r\n",
    "\r\n",
    "# #name varible and summary of name \r\n",
    "# name = builtins.input(\"Enter your name: \")\r\n",
    "# sum_name = 0\r\n",
    "#  # for loop adding every indivisual letter in name to greather and storing it in varible sum_name\r\n",
    "# for i in name:\r\n",
    "#   sum_name += dictionary[i]\r\n",
    "\r\n",
    "# print(sum_name)\r\n",
    "\r\n",
    "\r\n",
    "\r\n",
    "\r\n"
   ],
   "outputs": [
    {
     "output_type": "execute_result",
     "data": {
      "text/plain": [
       "'abcdefghijklmnopqrstuvwxyz'"
      ]
     },
     "metadata": {},
     "execution_count": 1
    }
   ],
   "metadata": {}
  },
  {
   "cell_type": "code",
   "execution_count": 3,
   "source": [
    "dictionary"
   ],
   "outputs": [
    {
     "output_type": "execute_result",
     "data": {
      "text/plain": [
       "{'a': 1,\n",
       " 'b': 2,\n",
       " 'c': 3,\n",
       " 'd': 4,\n",
       " 'e': 5,\n",
       " 'f': 6,\n",
       " 'g': 7,\n",
       " 'h': 8,\n",
       " 'i': 9,\n",
       " 'j': 10,\n",
       " 'k': 11,\n",
       " 'l': 12,\n",
       " 'm': 13,\n",
       " 'n': 14,\n",
       " 'o': 15,\n",
       " 'p': 16,\n",
       " 'q': 17,\n",
       " 'r': 18,\n",
       " 's': 19,\n",
       " 't': 20,\n",
       " 'u': 21,\n",
       " 'v': 22,\n",
       " 'w': 23,\n",
       " 'x': 24,\n",
       " 'y': 25,\n",
       " 'z': 26}"
      ]
     },
     "metadata": {},
     "execution_count": 3
    }
   ],
   "metadata": {}
  },
  {
   "cell_type": "code",
   "execution_count": 35,
   "source": [
    "# Question 2\r\n",
    "\r\n",
    "street_names = [\"shadowlawn\", \"hyslip\", \"rahway\",\"central\", \"ripley\"]\r\n",
    "pet_names = [\"crosby\", \"harvey\", \"marvin\"]\r\n",
    " \r\n",
    "#simple way \r\n",
    "print(pet_names[1:2], street_names[4:5])\r\n",
    "\r\n",
    "#f string \r\n",
    "print(f\"my first name is {pet_names[1:2]} and my lastname is {street_names[4:5]}\")\r\n",
    "\r\n",
    "#printing first three names (does not give desired output)\r\n",
    "for s, p in zip(pet_names, street_names):\r\n",
    "    print(s, p)"
   ],
   "outputs": [
    {
     "output_type": "stream",
     "name": "stdout",
     "text": [
      "['harvey'] ['ripley']\n",
      "my first name is ['harvey'] and my lastname is ['ripley']\n",
      "crosby shadowlawn\n",
      "harvey hyslip\n",
      "marvin rahway\n"
     ]
    }
   ],
   "metadata": {}
  },
  {
   "cell_type": "code",
   "execution_count": 8,
   "source": [
    "#Question 3\r\n",
    "\r\n",
    "#input for temp as float\r\n",
    "t = float(input('choose a temp! '))\r\n",
    "\r\n",
    "#if then statements to take user input and output correct information \r\n",
    "if 100 >= t > 70:\r\n",
    "    print('thats hot!')\r\n",
    "elif 70 >= t >= 50:\r\n",
    "    print('thats mild!')\r\n",
    "elif t < 50:\r\n",
    "    print('thats cold!')\r\n",
    "else:\r\n",
    "    print(\"Please choose a number between 1 and 100!\")\r\n"
   ],
   "outputs": [
    {
     "output_type": "stream",
     "name": "stdout",
     "text": [
      "thats cold!\n"
     ]
    }
   ],
   "metadata": {}
  },
  {
   "cell_type": "code",
   "execution_count": 11,
   "source": [
    "# empty array \r\n",
    "array = []\r\n",
    "\r\n",
    "# for loop creating varible x that tell user to input 5 intergers then appends it to the empty array \r\n",
    "for i in range(0, 5):\r\n",
    "    x = int(input('enter 5 intergers'))\r\n",
    "    array.append(x)\r\n",
    "\r\n",
    "# for loop telling computer for each interger in range 0-5 to print the charector corresponding with each number in the array. \r\n",
    "# chr(97) = a so I add + 96 to link the numbers in the array to the alphabet. \r\n",
    "for i in range(0, 5):\r\n",
    "    print(chr(array[i] + 96))\r\n"
   ],
   "outputs": [
    {
     "output_type": "stream",
     "name": "stdout",
     "text": [
      "c\n",
      "b\n",
      "c\n",
      "d\n",
      "e\n"
     ]
    }
   ],
   "metadata": {}
  },
  {
   "cell_type": "code",
   "execution_count": 34,
   "source": [
    "chr(97)"
   ],
   "outputs": [
    {
     "output_type": "execute_result",
     "data": {
      "text/plain": [
       "'a'"
      ]
     },
     "metadata": {},
     "execution_count": 34
    }
   ],
   "metadata": {}
  },
  {
   "cell_type": "code",
   "execution_count": null,
   "source": [],
   "outputs": [],
   "metadata": {}
  }
 ],
 "metadata": {
  "orig_nbformat": 4,
  "language_info": {
   "name": "python",
   "version": "3.8.8",
   "mimetype": "text/x-python",
   "codemirror_mode": {
    "name": "ipython",
    "version": 3
   },
   "pygments_lexer": "ipython3",
   "nbconvert_exporter": "python",
   "file_extension": ".py"
  },
  "kernelspec": {
   "name": "python3",
   "display_name": "Python 3.8.8 64-bit ('base': conda)"
  },
  "interpreter": {
   "hash": "b3ba2566441a7c06988d0923437866b63cedc61552a5af99d1f4fb67d367b25f"
  }
 },
 "nbformat": 4,
 "nbformat_minor": 2
}